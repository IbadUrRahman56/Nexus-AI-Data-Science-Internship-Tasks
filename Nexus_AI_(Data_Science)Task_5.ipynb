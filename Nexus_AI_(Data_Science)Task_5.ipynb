{
 "cells": [
  {
   "cell_type": "markdown",
   "id": "d29a4863",
   "metadata": {},
   "source": [
    "i) Feature Extraction with TF-IDF\n",
    "\n",
    "Use movie descriptions, genres, or keywords.\n",
    "\n",
    "Convert text → numerical representation using TF-IDF (Term Frequency–Inverse Document Frequency).\n",
    "\n",
    "This highlights important words while reducing weight of common words like \"the\" or \"movie\"."
   ]
  },
  {
   "cell_type": "code",
   "execution_count": 1,
   "id": "6d23d049",
   "metadata": {},
   "outputs": [
    {
     "name": "stdout",
     "output_type": "stream",
     "text": [
      "TF-IDF Matrix Shape: (4803, 20978)\n"
     ]
    }
   ],
   "source": [
    "import pandas as pd\n",
    "from sklearn.feature_extraction.text import TfidfVectorizer\n",
    "\n",
    "# Load dataset (TMDB 5000 movies dataset from Kaggle)\n",
    "df = pd.read_csv(\"tmdb_5000_movies.csv\")\n",
    "\n",
    "# Use 'overview' (movie description) for features\n",
    "df['overview'] = df['overview'].fillna('')  \n",
    "\n",
    "# Create TF-IDF matrix\n",
    "tfidf = TfidfVectorizer(stop_words='english')\n",
    "tfidf_matrix = tfidf.fit_transform(df['overview'])\n",
    "\n",
    "print(\"TF-IDF Matrix Shape:\", tfidf_matrix.shape)\n"
   ]
  },
  {
   "cell_type": "markdown",
   "id": "10a6c5b1",
   "metadata": {},
   "source": [
    "(ii) Similarity Calculation (Cosine Similarity)\n",
    "\n",
    "Compute similarity scores between movies.\n",
    "\n",
    "Cosine Similarity → measures angle between vectors (good for text data)."
   ]
  },
  {
   "cell_type": "code",
   "execution_count": 2,
   "id": "6d191f70",
   "metadata": {},
   "outputs": [],
   "source": [
    "from sklearn.metrics.pairwise import cosine_similarity\n",
    "\n",
    "# Compute cosine similarity matrix\n",
    "cosine_sim = cosine_similarity(tfidf_matrix, tfidf_matrix)\n"
   ]
  },
  {
   "cell_type": "markdown",
   "id": "a5548d33",
   "metadata": {},
   "source": [
    "iii) Build the Recommender Function\n",
    "\n",
    "Input: Movie title\n",
    "\n",
    "Output: Top 5 most similar movies"
   ]
  },
  {
   "cell_type": "code",
   "execution_count": 3,
   "id": "e90b89f7",
   "metadata": {},
   "outputs": [],
   "source": [
    "# Reset index for mapping\n",
    "indices = pd.Series(df.index, index=df['title']).drop_duplicates()\n",
    "\n",
    "def recommend_movies(title, cosine_sim=cosine_sim):\n",
    "    # Get index of the movie that matches the title\n",
    "    idx = indices[title]\n",
    "    \n",
    "    # Get similarity scores for that movie\n",
    "    sim_scores = list(enumerate(cosine_sim[idx]))\n",
    "    \n",
    "    # Sort movies by similarity score (descending)\n",
    "    sim_scores = sorted(sim_scores, key=lambda x: x[1], reverse=True)\n",
    "    \n",
    "    # Get top 5 similar movies (skip the first one because it’s the same movie)\n",
    "    sim_scores = sim_scores[1:6]\n",
    "    \n",
    "    # Get movie indices\n",
    "    movie_indices = [i[0] for i in sim_scores]\n",
    "    \n",
    "    return df['title'].iloc[movie_indices]\n"
   ]
  },
  {
   "cell_type": "markdown",
   "id": "2e7c14ee",
   "metadata": {},
   "source": [
    "(iv) Test with Example Movies"
   ]
  },
  {
   "cell_type": "code",
   "execution_count": 5,
   "id": "cbe8d8b2",
   "metadata": {},
   "outputs": [
    {
     "name": "stdout",
     "output_type": "stream",
     "text": [
      "Recommendations for 'The Dark Knight':\n",
      "3                         The Dark Knight Rises\n",
      "428                              Batman Returns\n",
      "3854    Batman: The Dark Knight Returns, Part 2\n",
      "299                              Batman Forever\n",
      "1359                                     Batman\n",
      "Name: title, dtype: object\n",
      "\n",
      "Recommendations for 'Inception':\n",
      "2897                                Cypher\n",
      "134     Mission: Impossible - Rogue Nation\n",
      "1930                            Stone Cold\n",
      "914                   Central Intelligence\n",
      "1683                       Pitch Perfect 2\n",
      "Name: title, dtype: object\n",
      "\n",
      "Recommendations for 'The Avengers':\n",
      "7       Avengers: Age of Ultron\n",
      "3144                    Plastic\n",
      "1715                    Timecop\n",
      "4124         This Thing of Ours\n",
      "3311      Thank You for Smoking\n",
      "Name: title, dtype: object\n"
     ]
    }
   ],
   "source": [
    "print(\"Recommendations for 'The Dark Knight':\")\n",
    "print(recommend_movies(\"The Dark Knight\"))\n",
    "\n",
    "print(\"\\nRecommendations for 'Inception':\")\n",
    "print(recommend_movies(\"Inception\"))\n",
    "\n",
    "print(\"\\nRecommendations for 'The Avengers':\")\n",
    "print(recommend_movies(\"The Avengers\"))\n"
   ]
  },
  {
   "cell_type": "code",
   "execution_count": null,
   "id": "7bb54a97",
   "metadata": {},
   "outputs": [],
   "source": []
  }
 ],
 "metadata": {
  "kernelspec": {
   "display_name": "Python 3",
   "language": "python",
   "name": "python3"
  },
  "language_info": {
   "codemirror_mode": {
    "name": "ipython",
    "version": 3
   },
   "file_extension": ".py",
   "mimetype": "text/x-python",
   "name": "python",
   "nbconvert_exporter": "python",
   "pygments_lexer": "ipython3",
   "version": "3.13.7"
  }
 },
 "nbformat": 4,
 "nbformat_minor": 5
}
